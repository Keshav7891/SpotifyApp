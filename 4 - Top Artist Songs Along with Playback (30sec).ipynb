{
 "cells": [
  {
   "cell_type": "code",
   "execution_count": 46,
   "id": "2e99087f",
   "metadata": {},
   "outputs": [],
   "source": [
    "import spotipy\n",
    "from spotipy.oauth2 import SpotifyClientCredentials"
   ]
  },
  {
   "cell_type": "code",
   "execution_count": 47,
   "id": "ac10efb7",
   "metadata": {},
   "outputs": [],
   "source": [
    "SPOTIPY_CLIENT_ID='e18fafeb60a949d2a9b7d1efccabe69a'\n",
    "SPOTIPY_CLIENT_SECRET='739bbbed49864382a64a64ccd64ecdcc'"
   ]
  },
  {
   "cell_type": "code",
   "execution_count": 48,
   "id": "a60e6d98",
   "metadata": {},
   "outputs": [],
   "source": [
    "auth_manager = SpotifyClientCredentials(client_id=SPOTIPY_CLIENT_ID, client_secret=SPOTIPY_CLIENT_SECRET)\n",
    "sp = spotipy.Spotify(auth_manager=auth_manager)"
   ]
  },
  {
   "cell_type": "code",
   "execution_count": 49,
   "id": "d6ca60fe",
   "metadata": {},
   "outputs": [],
   "source": [
    "artist_name = 'Dhruv'"
   ]
  },
  {
   "cell_type": "code",
   "execution_count": 50,
   "id": "7b2fc4b4",
   "metadata": {},
   "outputs": [],
   "source": [
    "artists = sp.search(q='artist:'+artist_name,type='artist', limit=10)"
   ]
  },
  {
   "cell_type": "code",
   "execution_count": 51,
   "id": "2c22a879",
   "metadata": {},
   "outputs": [
    {
     "data": {
      "text/plain": [
       "[{'external_urls': {'spotify': 'https://open.spotify.com/artist/70NcAr4ZtA3FAqU16iQZSb'},\n",
       "  'followers': {'href': None, 'total': 353427},\n",
       "  'genres': ['chill r&b', 'nyc pop', 'pop'],\n",
       "  'href': 'https://api.spotify.com/v1/artists/70NcAr4ZtA3FAqU16iQZSb',\n",
       "  'id': '70NcAr4ZtA3FAqU16iQZSb',\n",
       "  'images': [{'height': 640,\n",
       "    'url': 'https://i.scdn.co/image/ab6761610000e5eb9d9fb46b69bfb485f8872d02',\n",
       "    'width': 640},\n",
       "   {'height': 320,\n",
       "    'url': 'https://i.scdn.co/image/ab676161000051749d9fb46b69bfb485f8872d02',\n",
       "    'width': 320},\n",
       "   {'height': 160,\n",
       "    'url': 'https://i.scdn.co/image/ab6761610000f1789d9fb46b69bfb485f8872d02',\n",
       "    'width': 160}],\n",
       "  'name': 'dhruv',\n",
       "  'popularity': 68,\n",
       "  'type': 'artist',\n",
       "  'uri': 'spotify:artist:70NcAr4ZtA3FAqU16iQZSb'},\n",
       " {'external_urls': {'spotify': 'https://open.spotify.com/artist/6ivte6aFersdzMprXpVDiO'},\n",
       "  'followers': {'href': None, 'total': 5688},\n",
       "  'genres': ['tamil pop'],\n",
       "  'href': 'https://api.spotify.com/v1/artists/6ivte6aFersdzMprXpVDiO',\n",
       "  'id': '6ivte6aFersdzMprXpVDiO',\n",
       "  'images': [{'height': 640,\n",
       "    'url': 'https://i.scdn.co/image/ab6761610000e5eb7354e0e323422617195f9fd5',\n",
       "    'width': 640},\n",
       "   {'height': 320,\n",
       "    'url': 'https://i.scdn.co/image/ab676161000051747354e0e323422617195f9fd5',\n",
       "    'width': 320},\n",
       "   {'height': 160,\n",
       "    'url': 'https://i.scdn.co/image/ab6761610000f1787354e0e323422617195f9fd5',\n",
       "    'width': 160}],\n",
       "  'name': 'Dhruv Vikram',\n",
       "  'popularity': 52,\n",
       "  'type': 'artist',\n",
       "  'uri': 'spotify:artist:6ivte6aFersdzMprXpVDiO'},\n",
       " {'external_urls': {'spotify': 'https://open.spotify.com/artist/4b0Zi3RZUUv8QdkBkMhc8x'},\n",
       "  'followers': {'href': None, 'total': 127},\n",
       "  'genres': [],\n",
       "  'href': 'https://api.spotify.com/v1/artists/4b0Zi3RZUUv8QdkBkMhc8x',\n",
       "  'id': '4b0Zi3RZUUv8QdkBkMhc8x',\n",
       "  'images': [],\n",
       "  'name': 'Dhruv Bhola',\n",
       "  'popularity': 36,\n",
       "  'type': 'artist',\n",
       "  'uri': 'spotify:artist:4b0Zi3RZUUv8QdkBkMhc8x'},\n",
       " {'external_urls': {'spotify': 'https://open.spotify.com/artist/5npIe0yBbHoAwQ5XYVVEwn'},\n",
       "  'followers': {'href': None, 'total': 34591},\n",
       "  'genres': ['indian indie', 'indian singer-songwriter', 'new delhi indie'],\n",
       "  'href': 'https://api.spotify.com/v1/artists/5npIe0yBbHoAwQ5XYVVEwn',\n",
       "  'id': '5npIe0yBbHoAwQ5XYVVEwn',\n",
       "  'images': [{'height': 640,\n",
       "    'url': 'https://i.scdn.co/image/ab6761610000e5ebef919688ded996e01939c637',\n",
       "    'width': 640},\n",
       "   {'height': 320,\n",
       "    'url': 'https://i.scdn.co/image/ab67616100005174ef919688ded996e01939c637',\n",
       "    'width': 320},\n",
       "   {'height': 160,\n",
       "    'url': 'https://i.scdn.co/image/ab6761610000f178ef919688ded996e01939c637',\n",
       "    'width': 160}],\n",
       "  'name': 'Dhruv Visvanath',\n",
       "  'popularity': 26,\n",
       "  'type': 'artist',\n",
       "  'uri': 'spotify:artist:5npIe0yBbHoAwQ5XYVVEwn'},\n",
       " {'external_urls': {'spotify': 'https://open.spotify.com/artist/4g8Z4if0DrwN5H83ZGpZ44'},\n",
       "  'followers': {'href': None, 'total': 23897},\n",
       "  'genres': ['desi hip hop'],\n",
       "  'href': 'https://api.spotify.com/v1/artists/4g8Z4if0DrwN5H83ZGpZ44',\n",
       "  'id': '4g8Z4if0DrwN5H83ZGpZ44',\n",
       "  'images': [{'height': 640,\n",
       "    'url': 'https://i.scdn.co/image/ab6761610000e5ebec04a1ce7b773033f43be64f',\n",
       "    'width': 640},\n",
       "   {'height': 320,\n",
       "    'url': 'https://i.scdn.co/image/ab67616100005174ec04a1ce7b773033f43be64f',\n",
       "    'width': 320},\n",
       "   {'height': 160,\n",
       "    'url': 'https://i.scdn.co/image/ab6761610000f178ec04a1ce7b773033f43be64f',\n",
       "    'width': 160}],\n",
       "  'name': 'Dhruv Sthetick',\n",
       "  'popularity': 35,\n",
       "  'type': 'artist',\n",
       "  'uri': 'spotify:artist:4g8Z4if0DrwN5H83ZGpZ44'},\n",
       " {'external_urls': {'spotify': 'https://open.spotify.com/artist/7Fj9Lj6m0uTXxyZxNrEW3n'},\n",
       "  'followers': {'href': None, 'total': 16},\n",
       "  'genres': [],\n",
       "  'href': 'https://api.spotify.com/v1/artists/7Fj9Lj6m0uTXxyZxNrEW3n',\n",
       "  'id': '7Fj9Lj6m0uTXxyZxNrEW3n',\n",
       "  'images': [],\n",
       "  'name': 'Dhruv Pankhania',\n",
       "  'popularity': 34,\n",
       "  'type': 'artist',\n",
       "  'uri': 'spotify:artist:7Fj9Lj6m0uTXxyZxNrEW3n'},\n",
       " {'external_urls': {'spotify': 'https://open.spotify.com/artist/716MYE0ks6nnA2oCJdK3Mb'},\n",
       "  'followers': {'href': None, 'total': 709},\n",
       "  'genres': ['indian folk', 'indian fusion'],\n",
       "  'href': 'https://api.spotify.com/v1/artists/716MYE0ks6nnA2oCJdK3Mb',\n",
       "  'id': '716MYE0ks6nnA2oCJdK3Mb',\n",
       "  'images': [{'height': 640,\n",
       "    'url': 'https://i.scdn.co/image/ab6761610000e5ebac010c40195effdf7a230984',\n",
       "    'width': 640},\n",
       "   {'height': 320,\n",
       "    'url': 'https://i.scdn.co/image/ab67616100005174ac010c40195effdf7a230984',\n",
       "    'width': 320},\n",
       "   {'height': 160,\n",
       "    'url': 'https://i.scdn.co/image/ab6761610000f178ac010c40195effdf7a230984',\n",
       "    'width': 160}],\n",
       "  'name': 'Dhruv Ghanekar',\n",
       "  'popularity': 24,\n",
       "  'type': 'artist',\n",
       "  'uri': 'spotify:artist:716MYE0ks6nnA2oCJdK3Mb'},\n",
       " {'external_urls': {'spotify': 'https://open.spotify.com/artist/6VGfXWL2EDRPXa6BcfuCyO'},\n",
       "  'followers': {'href': None, 'total': 192},\n",
       "  'genres': ['sufi'],\n",
       "  'href': 'https://api.spotify.com/v1/artists/6VGfXWL2EDRPXa6BcfuCyO',\n",
       "  'id': '6VGfXWL2EDRPXa6BcfuCyO',\n",
       "  'images': [],\n",
       "  'name': 'Dhruv Sangari',\n",
       "  'popularity': 21,\n",
       "  'type': 'artist',\n",
       "  'uri': 'spotify:artist:6VGfXWL2EDRPXa6BcfuCyO'},\n",
       " {'external_urls': {'spotify': 'https://open.spotify.com/artist/5XiFCr9iBKE6Cupltgnlet'},\n",
       "  'followers': {'href': None, 'total': 1585},\n",
       "  'genres': [],\n",
       "  'href': 'https://api.spotify.com/v1/artists/5XiFCr9iBKE6Cupltgnlet',\n",
       "  'id': '5XiFCr9iBKE6Cupltgnlet',\n",
       "  'images': [{'height': 640,\n",
       "    'url': 'https://i.scdn.co/image/ab6761610000e5eb5f6d58ecd18278b498ef2c8c',\n",
       "    'width': 640},\n",
       "   {'height': 320,\n",
       "    'url': 'https://i.scdn.co/image/ab676161000051745f6d58ecd18278b498ef2c8c',\n",
       "    'width': 320},\n",
       "   {'height': 160,\n",
       "    'url': 'https://i.scdn.co/image/ab6761610000f1785f6d58ecd18278b498ef2c8c',\n",
       "    'width': 160}],\n",
       "  'name': 'Dhruva Aliman',\n",
       "  'popularity': 10,\n",
       "  'type': 'artist',\n",
       "  'uri': 'spotify:artist:5XiFCr9iBKE6Cupltgnlet'},\n",
       " {'external_urls': {'spotify': 'https://open.spotify.com/artist/25RpK0wKK891C05JinG9ii'},\n",
       "  'followers': {'href': None, 'total': 4501},\n",
       "  'genres': ['indian indie', 'indian singer-songwriter'],\n",
       "  'href': 'https://api.spotify.com/v1/artists/25RpK0wKK891C05JinG9ii',\n",
       "  'id': '25RpK0wKK891C05JinG9ii',\n",
       "  'images': [{'height': 640,\n",
       "    'url': 'https://i.scdn.co/image/ab6761610000e5eb743220d8eac843999a0be33f',\n",
       "    'width': 640},\n",
       "   {'height': 320,\n",
       "    'url': 'https://i.scdn.co/image/ab67616100005174743220d8eac843999a0be33f',\n",
       "    'width': 320},\n",
       "   {'height': 160,\n",
       "    'url': 'https://i.scdn.co/image/ab6761610000f178743220d8eac843999a0be33f',\n",
       "    'width': 160}],\n",
       "  'name': 'Dhruv Kapoor',\n",
       "  'popularity': 27,\n",
       "  'type': 'artist',\n",
       "  'uri': 'spotify:artist:25RpK0wKK891C05JinG9ii'}]"
      ]
     },
     "execution_count": 51,
     "metadata": {},
     "output_type": "execute_result"
    }
   ],
   "source": [
    "artists['artists']['items']"
   ]
  },
  {
   "cell_type": "code",
   "execution_count": 52,
   "id": "f405f510",
   "metadata": {},
   "outputs": [
    {
     "name": "stdout",
     "output_type": "stream",
     "text": [
      "spotify:artist:70NcAr4ZtA3FAqU16iQZSb\n"
     ]
    }
   ],
   "source": [
    "artist_uri = artists['artists']['items'][0]['uri']\n",
    "print(artist_uri)"
   ]
  },
  {
   "cell_type": "code",
   "execution_count": 53,
   "id": "454ca5a0",
   "metadata": {},
   "outputs": [
    {
     "name": "stdout",
     "output_type": "stream",
     "text": [
      "track    : double take\n",
      "audio    : https://p.scdn.co/mp3-preview/b853394f30a27df37bad14dc69002f347b9b39f3?cid=d72ed763d1364011990f03d46519fd44\n",
      "cover art: https://i.scdn.co/image/ab67616d0000b2736f04e53cb5309f8e88286842\n",
      "\n",
      "track    : moonlight\n",
      "audio    : https://p.scdn.co/mp3-preview/d60803477947fca7428996a278682ef23e674995?cid=d72ed763d1364011990f03d46519fd44\n",
      "cover art: https://i.scdn.co/image/ab67616d0000b2736f04e53cb5309f8e88286842\n",
      "\n",
      "track    : airplane thoughts\n",
      "audio    : https://p.scdn.co/mp3-preview/ce478a948a485e6a39f047ed3c72246338d1030f?cid=d72ed763d1364011990f03d46519fd44\n",
      "cover art: https://i.scdn.co/image/ab67616d0000b2736f04e53cb5309f8e88286842\n",
      "\n",
      "track    : vulnerable\n",
      "audio    : https://p.scdn.co/mp3-preview/5f1c0d6d24db124b1f3bf3d17489bff0c01b86fd?cid=d72ed763d1364011990f03d46519fd44\n",
      "cover art: https://i.scdn.co/image/ab67616d0000b2736f04e53cb5309f8e88286842\n",
      "\n",
      "track    : Blur\n",
      "audio    : https://p.scdn.co/mp3-preview/e4a1cbfff8a62be3926d36fef9ab5d8a87ec096c?cid=d72ed763d1364011990f03d46519fd44\n",
      "cover art: https://i.scdn.co/image/ab67616d0000b2734d4e3991a194f6e689dce35e\n",
      "\n",
      "track    : grateful\n",
      "audio    : https://p.scdn.co/mp3-preview/2a1c639fdc8763f779bbf0b0e708e7bd47fd992c?cid=d72ed763d1364011990f03d46519fd44\n",
      "cover art: https://i.scdn.co/image/ab67616d0000b2736f04e53cb5309f8e88286842\n",
      "\n",
      "track    : retrograde\n",
      "audio    : https://p.scdn.co/mp3-preview/378123bad55d311ce784ccd2356150892b7eba55?cid=d72ed763d1364011990f03d46519fd44\n",
      "cover art: https://i.scdn.co/image/ab67616d0000b2736f04e53cb5309f8e88286842\n",
      "\n",
      "track    : what's wrong with me?\n",
      "audio    : https://p.scdn.co/mp3-preview/a6f5b42e809df576c21efc70cf166a64e6887b8d?cid=d72ed763d1364011990f03d46519fd44\n",
      "cover art: https://i.scdn.co/image/ab67616d0000b2736f04e53cb5309f8e88286842\n",
      "\n",
      "track    : stable life\n",
      "audio    : https://p.scdn.co/mp3-preview/6ac20aef0797e9ef9cc523ae91cb4ba856f6e24c?cid=d72ed763d1364011990f03d46519fd44\n",
      "cover art: https://i.scdn.co/image/ab67616d0000b2736f04e53cb5309f8e88286842\n",
      "\n"
     ]
    }
   ],
   "source": [
    "results = sp.artist_top_tracks(artist_uri)\n",
    "\n",
    "for track in results['tracks'][:10]:\n",
    "    print('track    : ' + track['name'])\n",
    "    if track['preview_url'] is not None:\n",
    "        print('audio    : ' + track['preview_url'])\n",
    "    print('cover art: ' + track['album']['images'][0]['url'])\n",
    "    print()"
   ]
  },
  {
   "cell_type": "code",
   "execution_count": null,
   "id": "7646be1a",
   "metadata": {},
   "outputs": [],
   "source": []
  },
  {
   "cell_type": "code",
   "execution_count": null,
   "id": "e014be56",
   "metadata": {},
   "outputs": [],
   "source": []
  },
  {
   "cell_type": "code",
   "execution_count": null,
   "id": "6265249f",
   "metadata": {},
   "outputs": [],
   "source": []
  }
 ],
 "metadata": {
  "kernelspec": {
   "display_name": "Python 3 (ipykernel)",
   "language": "python",
   "name": "python3"
  },
  "language_info": {
   "codemirror_mode": {
    "name": "ipython",
    "version": 3
   },
   "file_extension": ".py",
   "mimetype": "text/x-python",
   "name": "python",
   "nbconvert_exporter": "python",
   "pygments_lexer": "ipython3",
   "version": "3.9.7"
  }
 },
 "nbformat": 4,
 "nbformat_minor": 5
}
